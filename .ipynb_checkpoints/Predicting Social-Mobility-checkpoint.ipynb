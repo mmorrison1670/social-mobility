{
 "cells": [
  {
   "cell_type": "markdown",
   "metadata": {},
   "source": [
    "## Using Machine Learning to Predict Social Mobility\n",
    "Project is based off “Using Big Data Solve Economic and Social Problems,” taught by Raj Chetty and Greg Bruich at Harvard University."
   ]
  },
  {
   "cell_type": "markdown",
   "metadata": {},
   "source": [
    "**Goal:** In this Empirical Project, I use variables from Google DataCommons to predict\n",
    "intergenerational mobility using machine learning methods. The measure of intergenerational\n",
    "mobility that I focus on is the mean rank of a child whose parents were at the 25th percentile\n",
    "of the national income distribution in each county (kfr_pooled_p25). The goal is to\n",
    "construct the best predictions of this outcome using variables, an important step in creating\n",
    "forecasts of upward mobility that could be used for future generations before data on their\n",
    "outcomes become available."
   ]
  },
  {
   "cell_type": "markdown",
   "metadata": {},
   "source": [
    "**Description of the data:** The data consist of all 2,518 counties with at least 10,000 residents available from the Opportunity Atlas. For **Data Dictionary** please see end of notebook. For more details on the construction of the variables included in this data set, please see [Chetty, Raj, John Friedman, Nathaniel Hendren, Maggie R.Jones, and Sonya R. Porter. 2018. “The Opportunity Atlas: Mapping the Childhood Roots of Social Mobility.” NBER Working Paper No. 25147. ](https://opportunityinsights.org/wp-content/uploads/2018/10/atlas_paper.pdf)"
   ]
  },
  {
   "cell_type": "code",
   "execution_count": 1,
   "metadata": {},
   "outputs": [],
   "source": [
    "import os\n",
    "import json\n",
    "import time\n",
    "import pickle\n",
    "import requests\n",
    "\n",
    "import numpy as np\n",
    "np.set_printoptions(suppress=True, formatter={'float_kind':'{:0.2f}'.format})\n",
    "import pandas as pd\n",
    "import seaborn as sns\n",
    "import matplotlib.pyplot as plt"
   ]
  },
  {
   "cell_type": "code",
   "execution_count": 2,
   "metadata": {},
   "outputs": [],
   "source": [
    "from sklearn import metrics\n",
    "from sklearn.metrics import mean_squared_error, r2_score\n",
    "from sklearn.model_selection import train_test_split\n",
    "from sklearn.model_selection import KFold\n",
    "\n",
    "from sklearn.linear_model import LinearRegression\n",
    "from sklearn.tree import DecisionTreeRegressor\n",
    "from sklearn.ensemble import RandomForestRegressor\n",
    "\n",
    "import yellowbrick as yb"
   ]
  },
  {
   "cell_type": "code",
   "execution_count": 3,
   "metadata": {},
   "outputs": [],
   "source": [
    "training = pd.io.stata.read_stata('atlas_training.dta')\n",
    "training.to_csv('atlas_training.csv')"
   ]
  },
  {
   "cell_type": "code",
   "execution_count": 4,
   "metadata": {},
   "outputs": [],
   "source": [
    "testing = pd.io.stata.read_stata('atlas_test.dta')\n",
    "testing.to_csv('atlas_test.csv')"
   ]
  },
  {
   "cell_type": "code",
   "execution_count": 5,
   "metadata": {},
   "outputs": [],
   "source": [
    "df_train = pd.read_csv(\"atlas_training.csv\", sep=',', header=0)"
   ]
  },
  {
   "cell_type": "code",
   "execution_count": 6,
   "metadata": {},
   "outputs": [],
   "source": [
    "df_test = pd.read_csv(\"atlas_test.csv\", sep=',', header=0)"
   ]
  },
  {
   "cell_type": "code",
   "execution_count": 7,
   "metadata": {},
   "outputs": [
    {
     "data": {
      "text/plain": [
       "(2518, 129)"
      ]
     },
     "execution_count": 7,
     "metadata": {},
     "output_type": "execute_result"
    }
   ],
   "source": [
    "df_train.shape"
   ]
  },
  {
   "cell_type": "code",
   "execution_count": 8,
   "metadata": {},
   "outputs": [
    {
     "data": {
      "text/plain": [
       "(2518, 3)"
      ]
     },
     "execution_count": 8,
     "metadata": {},
     "output_type": "execute_result"
    }
   ],
   "source": [
    "df_test.shape"
   ]
  },
  {
   "cell_type": "code",
   "execution_count": 9,
   "metadata": {},
   "outputs": [
    {
     "data": {
      "text/html": [
       "<div>\n",
       "<style scoped>\n",
       "    .dataframe tbody tr th:only-of-type {\n",
       "        vertical-align: middle;\n",
       "    }\n",
       "\n",
       "    .dataframe tbody tr th {\n",
       "        vertical-align: top;\n",
       "    }\n",
       "\n",
       "    .dataframe thead th {\n",
       "        text-align: right;\n",
       "    }\n",
       "</style>\n",
       "<table border=\"1\" class=\"dataframe\">\n",
       "  <thead>\n",
       "    <tr style=\"text-align: right;\">\n",
       "      <th></th>\n",
       "      <th>Unnamed: 0_x</th>\n",
       "      <th>geoid</th>\n",
       "      <th>place</th>\n",
       "      <th>pop</th>\n",
       "      <th>housing</th>\n",
       "      <th>kfr_pooled_p25</th>\n",
       "      <th>test</th>\n",
       "      <th>training</th>\n",
       "      <th>P_1</th>\n",
       "      <th>P_2</th>\n",
       "      <th>...</th>\n",
       "      <th>P_114</th>\n",
       "      <th>P_115</th>\n",
       "      <th>P_116</th>\n",
       "      <th>P_117</th>\n",
       "      <th>P_118</th>\n",
       "      <th>P_119</th>\n",
       "      <th>P_120</th>\n",
       "      <th>P_121</th>\n",
       "      <th>Unnamed: 0_y</th>\n",
       "      <th>kfr_actual</th>\n",
       "    </tr>\n",
       "  </thead>\n",
       "  <tbody>\n",
       "    <tr>\n",
       "      <th>0</th>\n",
       "      <td>0</td>\n",
       "      <td>1003.0</td>\n",
       "      <td>Baldwin County</td>\n",
       "      <td>187114</td>\n",
       "      <td>104061</td>\n",
       "      <td>0.388847</td>\n",
       "      <td>0.0</td>\n",
       "      <td>1.0</td>\n",
       "      <td>82.847946</td>\n",
       "      <td>98.593450</td>\n",
       "      <td>...</td>\n",
       "      <td>0.00</td>\n",
       "      <td>2.01</td>\n",
       "      <td>0.00</td>\n",
       "      <td>3.52</td>\n",
       "      <td>0.0</td>\n",
       "      <td>0.00</td>\n",
       "      <td>0.0</td>\n",
       "      <td>0.0</td>\n",
       "      <td>0</td>\n",
       "      <td>0.388847</td>\n",
       "    </tr>\n",
       "    <tr>\n",
       "      <th>1</th>\n",
       "      <td>1</td>\n",
       "      <td>1005.0</td>\n",
       "      <td>Barbour County</td>\n",
       "      <td>27321</td>\n",
       "      <td>11829</td>\n",
       "      <td>0.349386</td>\n",
       "      <td>0.0</td>\n",
       "      <td>1.0</td>\n",
       "      <td>76.313896</td>\n",
       "      <td>93.878720</td>\n",
       "      <td>...</td>\n",
       "      <td>0.00</td>\n",
       "      <td>4.84</td>\n",
       "      <td>0.00</td>\n",
       "      <td>1.61</td>\n",
       "      <td>0.0</td>\n",
       "      <td>3.23</td>\n",
       "      <td>0.0</td>\n",
       "      <td>0.0</td>\n",
       "      <td>1</td>\n",
       "      <td>0.349386</td>\n",
       "    </tr>\n",
       "    <tr>\n",
       "      <th>2</th>\n",
       "      <td>2</td>\n",
       "      <td>1007.0</td>\n",
       "      <td>Bibb County</td>\n",
       "      <td>22754</td>\n",
       "      <td>8981</td>\n",
       "      <td>0.363391</td>\n",
       "      <td>0.0</td>\n",
       "      <td>1.0</td>\n",
       "      <td>73.765620</td>\n",
       "      <td>104.868470</td>\n",
       "      <td>...</td>\n",
       "      <td>0.00</td>\n",
       "      <td>7.27</td>\n",
       "      <td>0.00</td>\n",
       "      <td>1.82</td>\n",
       "      <td>0.0</td>\n",
       "      <td>0.00</td>\n",
       "      <td>0.0</td>\n",
       "      <td>0.0</td>\n",
       "      <td>2</td>\n",
       "      <td>0.363391</td>\n",
       "    </tr>\n",
       "    <tr>\n",
       "      <th>3</th>\n",
       "      <td>3</td>\n",
       "      <td>1013.0</td>\n",
       "      <td>Butler County</td>\n",
       "      <td>20624</td>\n",
       "      <td>9964</td>\n",
       "      <td>0.357249</td>\n",
       "      <td>0.0</td>\n",
       "      <td>1.0</td>\n",
       "      <td>92.096670</td>\n",
       "      <td>121.073296</td>\n",
       "      <td>...</td>\n",
       "      <td>0.00</td>\n",
       "      <td>5.36</td>\n",
       "      <td>0.00</td>\n",
       "      <td>1.79</td>\n",
       "      <td>0.0</td>\n",
       "      <td>0.00</td>\n",
       "      <td>0.0</td>\n",
       "      <td>0.0</td>\n",
       "      <td>3</td>\n",
       "      <td>0.357249</td>\n",
       "    </tr>\n",
       "    <tr>\n",
       "      <th>4</th>\n",
       "      <td>4</td>\n",
       "      <td>1015.0</td>\n",
       "      <td>Calhoun County</td>\n",
       "      <td>117714</td>\n",
       "      <td>53289</td>\n",
       "      <td>0.361847</td>\n",
       "      <td>0.0</td>\n",
       "      <td>1.0</td>\n",
       "      <td>76.938210</td>\n",
       "      <td>95.478250</td>\n",
       "      <td>...</td>\n",
       "      <td>0.61</td>\n",
       "      <td>3.03</td>\n",
       "      <td>0.61</td>\n",
       "      <td>2.42</td>\n",
       "      <td>0.0</td>\n",
       "      <td>0.00</td>\n",
       "      <td>0.0</td>\n",
       "      <td>0.0</td>\n",
       "      <td>4</td>\n",
       "      <td>0.361847</td>\n",
       "    </tr>\n",
       "  </tbody>\n",
       "</table>\n",
       "<p>5 rows × 131 columns</p>\n",
       "</div>"
      ],
      "text/plain": [
       "   Unnamed: 0_x   geoid           place     pop  housing  kfr_pooled_p25  \\\n",
       "0             0  1003.0  Baldwin County  187114   104061        0.388847   \n",
       "1             1  1005.0  Barbour County   27321    11829        0.349386   \n",
       "2             2  1007.0     Bibb County   22754     8981        0.363391   \n",
       "3             3  1013.0   Butler County   20624     9964        0.357249   \n",
       "4             4  1015.0  Calhoun County  117714    53289        0.361847   \n",
       "\n",
       "   test  training        P_1         P_2  ...  P_114  P_115  P_116  P_117  \\\n",
       "0   0.0       1.0  82.847946   98.593450  ...   0.00   2.01   0.00   3.52   \n",
       "1   0.0       1.0  76.313896   93.878720  ...   0.00   4.84   0.00   1.61   \n",
       "2   0.0       1.0  73.765620  104.868470  ...   0.00   7.27   0.00   1.82   \n",
       "3   0.0       1.0  92.096670  121.073296  ...   0.00   5.36   0.00   1.79   \n",
       "4   0.0       1.0  76.938210   95.478250  ...   0.61   3.03   0.61   2.42   \n",
       "\n",
       "   P_118  P_119  P_120  P_121  Unnamed: 0_y  kfr_actual  \n",
       "0    0.0   0.00    0.0    0.0             0    0.388847  \n",
       "1    0.0   3.23    0.0    0.0             1    0.349386  \n",
       "2    0.0   0.00    0.0    0.0             2    0.363391  \n",
       "3    0.0   0.00    0.0    0.0             3    0.357249  \n",
       "4    0.0   0.00    0.0    0.0             4    0.361847  \n",
       "\n",
       "[5 rows x 131 columns]"
      ]
     },
     "execution_count": 9,
     "metadata": {},
     "output_type": "execute_result"
    }
   ],
   "source": [
    "#merging train and test together in one dataframe\n",
    "sm_data = pd.merge(df_train, df_test, on='geoid')\n",
    "sm_data.head()"
   ]
  },
  {
   "cell_type": "code",
   "execution_count": 10,
   "metadata": {},
   "outputs": [
    {
     "data": {
      "text/plain": [
       "(2518, 131)"
      ]
     },
     "execution_count": 10,
     "metadata": {},
     "output_type": "execute_result"
    }
   ],
   "source": [
    "sm_data.shape"
   ]
  },
  {
   "cell_type": "code",
   "execution_count": 15,
   "metadata": {},
   "outputs": [
    {
     "data": {
      "text/plain": [
       "['Unnamed: 0_x',\n",
       " 'geoid',\n",
       " 'place',\n",
       " 'pop',\n",
       " 'housing',\n",
       " 'kfr_pooled_p25',\n",
       " 'test',\n",
       " 'training',\n",
       " 'P_1',\n",
       " 'P_2',\n",
       " 'P_3',\n",
       " 'P_4',\n",
       " 'P_5',\n",
       " 'P_6',\n",
       " 'P_7',\n",
       " 'P_8',\n",
       " 'P_9',\n",
       " 'P_10',\n",
       " 'P_11',\n",
       " 'P_12',\n",
       " 'P_13',\n",
       " 'P_14',\n",
       " 'P_15',\n",
       " 'P_16',\n",
       " 'P_17',\n",
       " 'P_18',\n",
       " 'P_19',\n",
       " 'P_20',\n",
       " 'P_21',\n",
       " 'P_22',\n",
       " 'P_23',\n",
       " 'P_24',\n",
       " 'P_25',\n",
       " 'P_26',\n",
       " 'P_27',\n",
       " 'P_28',\n",
       " 'P_29',\n",
       " 'P_30',\n",
       " 'P_31',\n",
       " 'P_32',\n",
       " 'P_33',\n",
       " 'P_34',\n",
       " 'P_35',\n",
       " 'P_36',\n",
       " 'P_37',\n",
       " 'P_38',\n",
       " 'P_39',\n",
       " 'P_40',\n",
       " 'P_41',\n",
       " 'P_42',\n",
       " 'P_43',\n",
       " 'P_44',\n",
       " 'P_45',\n",
       " 'P_46',\n",
       " 'P_47',\n",
       " 'P_48',\n",
       " 'P_49',\n",
       " 'P_50',\n",
       " 'P_51',\n",
       " 'P_52',\n",
       " 'P_53',\n",
       " 'P_54',\n",
       " 'P_55',\n",
       " 'P_56',\n",
       " 'P_57',\n",
       " 'P_58',\n",
       " 'P_59',\n",
       " 'P_60',\n",
       " 'P_61',\n",
       " 'P_62',\n",
       " 'P_63',\n",
       " 'P_64',\n",
       " 'P_65',\n",
       " 'P_66',\n",
       " 'P_67',\n",
       " 'P_68',\n",
       " 'P_69',\n",
       " 'P_70',\n",
       " 'P_71',\n",
       " 'P_72',\n",
       " 'P_73',\n",
       " 'P_74',\n",
       " 'P_75',\n",
       " 'P_76',\n",
       " 'P_77',\n",
       " 'P_78',\n",
       " 'P_79',\n",
       " 'P_80',\n",
       " 'P_81',\n",
       " 'P_82',\n",
       " 'P_83',\n",
       " 'P_84',\n",
       " 'P_85',\n",
       " 'P_86',\n",
       " 'P_87',\n",
       " 'P_88',\n",
       " 'P_89',\n",
       " 'P_90',\n",
       " 'P_91',\n",
       " 'P_92',\n",
       " 'P_93',\n",
       " 'P_94',\n",
       " 'P_95',\n",
       " 'P_96',\n",
       " 'P_97',\n",
       " 'P_98',\n",
       " 'P_99',\n",
       " 'P_100',\n",
       " 'P_101',\n",
       " 'P_102',\n",
       " 'P_103',\n",
       " 'P_104',\n",
       " 'P_105',\n",
       " 'P_106',\n",
       " 'P_107',\n",
       " 'P_108',\n",
       " 'P_109',\n",
       " 'P_110',\n",
       " 'P_111',\n",
       " 'P_112',\n",
       " 'P_113',\n",
       " 'P_114',\n",
       " 'P_115',\n",
       " 'P_116',\n",
       " 'P_117',\n",
       " 'P_118',\n",
       " 'P_119',\n",
       " 'P_120',\n",
       " 'P_121',\n",
       " 'Unnamed: 0_y',\n",
       " 'kfr_actual']"
      ]
     },
     "execution_count": 15,
     "metadata": {},
     "output_type": "execute_result"
    }
   ],
   "source": [
    "list(sm_data.columns.values) "
   ]
  },
  {
   "cell_type": "code",
   "execution_count": 16,
   "metadata": {},
   "outputs": [],
   "source": [
    "#Labeling our X and y data\n",
    "X = sm_data[['geoid','pop','housing','P_1','P_2','P_3','P_4','P_5','P_6','P_7',\n",
    "             'P_8','P_9','P_10','P_11','P_12','P_13','P_14','P_15','P_16','P_17','P_18',\n",
    "             'P_19','P_20','P_21','P_22','P_23','P_24','P_25','P_26','P_27','P_28','P_29',\n",
    "             'P_30','P_31','P_32','P_33','P_34','P_35','P_36','P_37','P_38','P_39','P_40',\n",
    "             'P_41','P_42','P_43','P_44','P_45','P_46','P_47','P_48','P_49','P_50','P_51',\n",
    "             'P_52','P_53','P_54', 'P_55','P_56','P_57','P_58','P_59','P_60','P_61','P_62',\n",
    "             'P_63','P_64','P_65','P_66','P_67','P_68','P_69','P_70','P_71','P_72','P_73',\n",
    "             'P_74', 'P_75','P_76','P_77','P_78','P_79','P_80','P_81','P_82','P_83','P_84',\n",
    "             'P_85','P_86','P_87','P_88','P_89','P_90','P_91','P_92','P_93','P_94','P_95',\n",
    "             'P_96','P_97','P_98','P_99','P_100','P_101','P_102','P_103','P_104','P_105',\n",
    "             'P_106','P_107','P_108','P_109','P_110','P_111','P_112','P_113','P_114','P_115',\n",
    "             'P_116', 'P_117', 'P_118','P_119','P_120','P_121']]\n",
    "\n",
    "y = sm_data[['kfr_actual']]"
   ]
  },
  {
   "cell_type": "code",
   "execution_count": 17,
   "metadata": {},
   "outputs": [
    {
     "data": {
      "text/plain": [
       "<matplotlib.axes._subplots.AxesSubplot at 0x1a1bb4a978>"
      ]
     },
     "execution_count": 17,
     "metadata": {},
     "output_type": "execute_result"
    },
    {
     "data": {
      "image/png": "[encoded data removed]",
      "text/plain": [
       "<Figure size 1080x720 with 1 Axes>"
      ]
     },
     "metadata": {},
     "output_type": "display_data"
    }
   ],
   "source": [
    "#plotting distribution of our target variable \n",
    "plt.figure(figsize=(15,10))\n",
    "plt.tight_layout()\n",
    "sns.distplot(sm_data['kfr_actual'])"
   ]
  },
  {
   "cell_type": "code",
   "execution_count": 18,
   "metadata": {},
   "outputs": [],
   "source": [
    "#Splitting train and test data\n",
    "X_train, X_test, y_train, y_test = train_test_split(X, y, test_size=0.2, random_state = 42)"
   ]
  },
  {
   "cell_type": "code",
   "execution_count": null,
   "metadata": {},
   "outputs": [],
   "source": [
    "training = pd.io.stata.read_stata('atlas_training.dta')\n",
    "training.to_csv('atlas_training.csv')"
   ]
  },
  {
   "cell_type": "markdown",
   "metadata": {},
   "source": [
    "## Multivariable Linear Regression##"
   ]
  },
  {
   "cell_type": "code",
   "execution_count": 19,
   "metadata": {},
   "outputs": [
    {
     "data": {
      "text/plain": [
       "LinearRegression(copy_X=True, fit_intercept=True, n_jobs=None, normalize=False)"
      ]
     },
     "execution_count": 19,
     "metadata": {},
     "output_type": "execute_result"
    }
   ],
   "source": [
    "#Now let's train and fit our model\n",
    "regressor = LinearRegression()  \n",
    "regressor.fit(X_train, y_train)"
   ]
  },
  {
   "cell_type": "code",
   "execution_count": 20,
   "metadata": {},
   "outputs": [
    {
     "name": "stdout",
     "output_type": "stream",
     "text": [
      "[-4.53]\n",
      "[[0.00 0.00 -0.00 -0.00 -0.00 0.00 0.00 -0.00 0.00 0.00 -0.00 0.00 -0.01\n",
      "  -0.00 -0.00 0.00 0.00 0.00 0.00 0.00 -0.00 -0.00 -0.00 -0.00 0.00 0.00\n",
      "  -0.00 0.00 0.05 -0.05 0.07 0.00 -0.00 -0.05 0.15 0.00 -0.21 -0.37 -0.20\n",
      "  0.33 0.45 0.42 0.40 -0.00 -0.00 -0.03 -0.03 -0.20 0.07 0.05 -0.00 -0.00\n",
      "  0.32 0.00 -0.00 -0.11 -0.00 -0.00 -0.02 0.00 -0.00 -0.00 0.00 0.00\n",
      "  -0.00 0.00 0.00 -0.00 -0.00 0.00 0.00 -0.00 -0.00 -0.00 0.00 0.00 -0.00\n",
      "  0.00 0.00 -0.00 -0.00 0.00 -0.00 0.00 0.06 0.06 0.06 0.06 0.06 0.06\n",
      "  0.06 0.05 0.06 0.06 0.06 0.06 -0.01 -0.01 -0.01 -0.01 -0.01 -0.01 -0.01\n",
      "  -0.01 -0.01 -0.02 -0.01 -0.01 -0.00 -0.00 0.00 -0.00 0.00 0.00 0.00\n",
      "  -0.00 -0.00 -0.00 -0.00 -0.00 0.00 -0.00 0.00 -0.00]]\n"
     ]
    }
   ],
   "source": [
    "#To retrieve the intercept:\n",
    "print(regressor.intercept_)\n",
    "\n",
    "print(regressor.coef_)"
   ]
  },
  {
   "cell_type": "code",
   "execution_count": 21,
   "metadata": {},
   "outputs": [
    {
     "name": "stdout",
     "output_type": "stream",
     "text": [
      "The coefficient for geoid is 2.188465730323964e-08\n",
      "The coefficient for pop is 1.7714948922592144e-08\n",
      "The coefficient for housing is -2.2927260860836217e-08\n",
      "The coefficient for P_1 is -0.00016139347548182356\n",
      "The coefficient for P_2 is -1.794575018428186e-05\n",
      "The coefficient for P_3 is 4.9725256161506756e-05\n",
      "The coefficient for P_4 is 5.990535855770256e-05\n",
      "The coefficient for P_5 is -9.47348106737484e-05\n",
      "The coefficient for P_6 is 1.906623325123101e-05\n",
      "The coefficient for P_7 is 5.4464974921933e-06\n",
      "The coefficient for P_8 is -0.00010127869849129596\n",
      "The coefficient for P_9 is 0.00013560150518654844\n",
      "The coefficient for P_10 is -0.006106084327428247\n",
      "The coefficient for P_11 is -0.0022531788691069164\n",
      "The coefficient for P_12 is -0.0008592400817558942\n",
      "The coefficient for P_13 is 0.0008722870378203378\n",
      "The coefficient for P_14 is 0.0008130690657768319\n",
      "The coefficient for P_15 is 0.0008402217123773901\n",
      "The coefficient for P_16 is 0.0008714275238308255\n",
      "The coefficient for P_17 is 0.0009585205175319908\n",
      "The coefficient for P_18 is -0.00010160229455748242\n",
      "The coefficient for P_19 is -0.00010394496285375661\n",
      "The coefficient for P_20 is -4.613243830817857e-05\n",
      "The coefficient for P_21 is -0.0002156243368987289\n",
      "The coefficient for P_22 is 0.00021763163500293546\n",
      "The coefficient for P_23 is 0.00021392371469504612\n",
      "The coefficient for P_24 is -9.029654772439147e-07\n",
      "The coefficient for P_25 is 7.731185168807704e-05\n",
      "The coefficient for P_26 is 0.052667728139473895\n",
      "The coefficient for P_27 is -0.05446114606872708\n",
      "The coefficient for P_28 is 0.07311068871500338\n",
      "The coefficient for P_29 is 1.1966851681951838e-06\n",
      "The coefficient for P_30 is -1.6462997264296133e-06\n",
      "The coefficient for P_31 is -0.05338303530631563\n",
      "The coefficient for P_32 is 0.15269518920313835\n",
      "The coefficient for P_33 is 0.0006980519074609188\n",
      "The coefficient for P_34 is -0.21252010691660436\n",
      "The coefficient for P_35 is -0.36883520691935984\n",
      "The coefficient for P_36 is -0.19972608662407462\n",
      "The coefficient for P_37 is 0.3261204850931565\n",
      "The coefficient for P_38 is 0.448717128889335\n",
      "The coefficient for P_39 is 0.41523511597815543\n",
      "The coefficient for P_40 is 0.3960230064193274\n",
      "The coefficient for P_41 is -0.0002218543215702809\n",
      "The coefficient for P_42 is -9.400396612555045e-06\n",
      "The coefficient for P_43 is -0.026421712713211042\n",
      "The coefficient for P_44 is -0.03244483399896961\n",
      "The coefficient for P_45 is -0.2011661540388664\n",
      "The coefficient for P_46 is 0.07115362225351514\n",
      "The coefficient for P_47 is 0.05403593104715016\n",
      "The coefficient for P_48 is -0.00010541125806242531\n",
      "The coefficient for P_49 is -0.0009660004671752293\n",
      "The coefficient for P_50 is 0.3213144239531296\n",
      "The coefficient for P_51 is 7.571245002389252e-06\n",
      "The coefficient for P_52 is -5.844787495295489e-06\n",
      "The coefficient for P_53 is -0.11386549440214583\n",
      "The coefficient for P_54 is -2.2929011203310717e-06\n",
      "The coefficient for P_55 is -0.0048604306786576325\n",
      "The coefficient for P_56 is -0.015223369606760432\n",
      "The coefficient for P_57 is 0.0023648036723361997\n",
      "The coefficient for P_58 is -0.0004402780613613815\n",
      "The coefficient for P_59 is -2.6904018646517485e-05\n",
      "The coefficient for P_60 is 5.709038898003455e-07\n",
      "The coefficient for P_61 is 9.640278494010112e-05\n",
      "The coefficient for P_62 is -1.801998284958711e-08\n",
      "The coefficient for P_63 is 0.0025695365239745403\n",
      "The coefficient for P_64 is 0.002085869126860754\n",
      "The coefficient for P_65 is -0.0006769763672167563\n",
      "The coefficient for P_66 is -2.3596180424075517e-05\n",
      "The coefficient for P_67 is 2.824860791167965e-05\n",
      "The coefficient for P_68 is 0.00316092626024346\n",
      "The coefficient for P_69 is -0.00043420930628673964\n",
      "The coefficient for P_70 is -8.706333621710768e-07\n",
      "The coefficient for P_71 is -0.00032735904686602484\n",
      "The coefficient for P_72 is 2.5683095689795813e-06\n",
      "The coefficient for P_73 is 1.8292591668661826e-06\n",
      "The coefficient for P_74 is -0.0013387750787730332\n",
      "The coefficient for P_75 is 0.000720946844405517\n",
      "The coefficient for P_76 is 0.0006481202119355184\n",
      "The coefficient for P_77 is -0.00010209604751844699\n",
      "The coefficient for P_78 is -0.0001213536328886154\n",
      "The coefficient for P_79 is 3.5440213427966875e-05\n",
      "The coefficient for P_80 is -0.00022426510988674602\n",
      "The coefficient for P_81 is 0.004382328391674942\n",
      "The coefficient for P_82 is 0.05767888544721933\n",
      "The coefficient for P_83 is 0.057955091353067575\n",
      "The coefficient for P_84 is 0.05631936954269587\n",
      "The coefficient for P_85 is 0.058626770473136906\n",
      "The coefficient for P_86 is 0.0606548346710599\n",
      "The coefficient for P_87 is 0.057812312602261856\n",
      "The coefficient for P_88 is 0.0553195456122451\n",
      "The coefficient for P_89 is 0.054251368563811055\n",
      "The coefficient for P_90 is 0.059765291281300884\n",
      "The coefficient for P_91 is 0.05999566308968298\n",
      "The coefficient for P_92 is 0.05730617627987616\n",
      "The coefficient for P_93 is 0.05780911704104208\n",
      "The coefficient for P_94 is -0.011473616443109869\n",
      "The coefficient for P_95 is -0.01142263997931993\n",
      "The coefficient for P_96 is -0.01069551260662337\n",
      "The coefficient for P_97 is -0.011285811552973318\n",
      "The coefficient for P_98 is -0.013629465697574833\n",
      "The coefficient for P_99 is -0.011031446828003182\n",
      "The coefficient for P_100 is -0.013432712069248143\n",
      "The coefficient for P_101 is -0.009121483516458646\n",
      "The coefficient for P_102 is -0.011091821269420496\n",
      "The coefficient for P_103 is -0.01634136653231668\n",
      "The coefficient for P_104 is -0.011134004845432298\n",
      "The coefficient for P_105 is -0.011357752877405602\n",
      "The coefficient for P_106 is -0.0008298729211983159\n",
      "The coefficient for P_107 is -0.0008911085957168005\n",
      "The coefficient for P_108 is 0.0011236746731315523\n",
      "The coefficient for P_109 is -0.0001923630524083584\n",
      "The coefficient for P_110 is 0.0032838427644795824\n",
      "The coefficient for P_111 is 0.00029222780392928425\n",
      "The coefficient for P_112 is 0.000626523263190173\n",
      "The coefficient for P_113 is -0.0002583699919665406\n",
      "The coefficient for P_114 is -0.0008447800498516813\n",
      "The coefficient for P_115 is -7.641865715384726e-05\n",
      "The coefficient for P_116 is -0.0009257699762736392\n",
      "The coefficient for P_117 is -0.00033307479947117035\n",
      "The coefficient for P_118 is 0.0005636682955396948\n",
      "The coefficient for P_119 is -9.56168209842472e-05\n",
      "The coefficient for P_120 is 0.00010720936127315523\n",
      "The coefficient for P_121 is -0.00037513317883722556\n"
     ]
    }
   ],
   "source": [
    "for idx, col_name in enumerate(X_train.columns):\n",
    "    print(\"The coefficient for {} is {}\".format(col_name, regressor.coef_[0][idx]))"
   ]
  },
  {
   "cell_type": "markdown",
   "metadata": {},
   "source": [
    "The coefficient for P_38 (share of white 2000) is 0.44871712888933. This means that for a unit increase in “share of white”, there is a increase of .44871 units in the mean percentile rank in the national distribution of\n",
    "household income in 2014-2015 for children with parents at the 25th percentile of the national income distribution.\n",
    "\n",
    "The coefficient for P_45 (Share of Single‐Headed Households with Children 2000) is -0.2011661540388664. This means that for a unit increase in “Share of Single‐Headed Households with Children 2000”, there is a decrease of .201 units in the mean percentile rank in the national distribution of household income in 2014-2015 for children with parents at the 25th percentile of the national income distribution.\n",
    "\n",
    "It appears that the most influential variables in this model include indicators associated with share of population below the poverty line, race, and share of single-headed householders with children. "
   ]
  },
  {
   "cell_type": "code",
   "execution_count": 22,
   "metadata": {},
   "outputs": [
    {
     "name": "stdout",
     "output_type": "stream",
     "text": [
      "[[0.50]\n",
      " [0.42]\n",
      " [0.43]\n",
      " [0.46]\n",
      " [0.44]]\n"
     ]
    }
   ],
   "source": [
    "#get predictions for the test set\n",
    "y_pred = regressor.predict(X_test)\n",
    "print(y_pred[0:5])"
   ]
  },
  {
   "cell_type": "code",
   "execution_count": 23,
   "metadata": {
    "scrolled": true
   },
   "outputs": [
    {
     "name": "stdout",
     "output_type": "stream",
     "text": [
      "Mean Absolute Error: 0.01615903949638638\n",
      "Mean Squared Error: 0.0004394454323450549\n",
      "Root Mean Squared Error: 0.02096295380773079\n"
     ]
    }
   ],
   "source": [
    "#evaluate the performance of the algorithm\n",
    "print('Mean Absolute Error:', metrics.mean_absolute_error(y_test, y_pred))  \n",
    "print('Mean Squared Error:', metrics.mean_squared_error(y_test, y_pred))  \n",
    "print('Root Mean Squared Error:', np.sqrt(metrics.mean_squared_error(y_test, y_pred)))"
   ]
  },
  {
   "cell_type": "markdown",
   "metadata": {},
   "source": [
    "The mean squared error (MSE) of an estimator measures the average of the squares of the errors—that is, **the average squared difference between the estimated values and the actual value.** Our linear regression model appears to be really good at predicting social mobility. "
   ]
  },
  {
   "cell_type": "code",
   "execution_count": 24,
   "metadata": {},
   "outputs": [
    {
     "name": "stdout",
     "output_type": "stream",
     "text": [
      "Percent within 10% of target value: 0.94\n"
     ]
    }
   ],
   "source": [
    "#how many of the predictions were within 10% of the true prediction.\n",
    "percent_diff = np.abs(y_pred - y_test) / y_test\n",
    "result = (percent_diff < 0.1).sum() / len(y_test)\n",
    "print('Percent within 10%% of target value: %.2f' % result)"
   ]
  },
  {
   "cell_type": "markdown",
   "metadata": {},
   "source": [
    "## Decision Tree##"
   ]
  },
  {
   "cell_type": "code",
   "execution_count": 25,
   "metadata": {},
   "outputs": [
    {
     "data": {
      "text/plain": [
       "DecisionTreeRegressor(criterion='mse', max_depth=None, max_features=None,\n",
       "                      max_leaf_nodes=None, min_impurity_decrease=0.0,\n",
       "                      min_impurity_split=None, min_samples_leaf=1,\n",
       "                      min_samples_split=2, min_weight_fraction_leaf=0.0,\n",
       "                      presort=False, random_state=None, splitter='best')"
      ]
     },
     "execution_count": 25,
     "metadata": {},
     "output_type": "execute_result"
    }
   ],
   "source": [
    "from sklearn.tree import DecisionTreeRegressor\n",
    "tree = DecisionTreeRegressor()\n",
    "tree.fit(X_train, y_train)"
   ]
  },
  {
   "cell_type": "code",
   "execution_count": 26,
   "metadata": {},
   "outputs": [
    {
     "name": "stdout",
     "output_type": "stream",
     "text": [
      "[0.55 0.43 0.40 0.45 0.48]\n"
     ]
    }
   ],
   "source": [
    "y_pred = tree.predict(X_test)\n",
    "print(y_pred[0:5])"
   ]
  },
  {
   "cell_type": "code",
   "execution_count": 27,
   "metadata": {},
   "outputs": [
    {
     "name": "stdout",
     "output_type": "stream",
     "text": [
      "Mean Absolute Error: 0.023520817063492065\n",
      "Mean Squared Error: 0.0009657447578627342\n",
      "Root Mean Squared Error: 0.03107643412399071\n"
     ]
    }
   ],
   "source": [
    "print('Mean Absolute Error:', metrics.mean_absolute_error(y_test, y_pred))\n",
    "print('Mean Squared Error:', metrics.mean_squared_error(y_test, y_pred))\n",
    "print('Root Mean Squared Error:', np.sqrt(metrics.mean_squared_error(y_test, y_pred)))"
   ]
  },
  {
   "cell_type": "markdown",
   "metadata": {},
   "source": [
    "Mean Squared Error is a pretty good score, but let's 10 fold cross-validation to select the optimal tree size. "
   ]
  },
  {
   "cell_type": "code",
   "execution_count": 28,
   "metadata": {},
   "outputs": [
    {
     "data": {
      "image/png": "[encoded data removed]",
      "text/plain": [
       "<Figure size 576x396 with 1 Axes>"
      ]
     },
     "metadata": {},
     "output_type": "display_data"
    }
   ],
   "source": [
    "from sklearn.tree import DecisionTreeRegressor\n",
    "from yellowbrick.model_selection import ValidationCurve\n",
    "\n",
    "viz = ValidationCurve(\n",
    "    DecisionTreeRegressor(), param_name=\"max_depth\",\n",
    "    param_range=np.arange(1, 30), cv=10, scoring=\"r2\"\n",
    ")\n",
    "\n",
    "# Fit and poof the visualizer\n",
    "viz.fit(X, y)\n",
    "viz.poof()"
   ]
  },
  {
   "cell_type": "markdown",
   "metadata": {},
   "source": [
    "It looks like at max_depth=7, validation scores are the highest. Increasing the max_depth can lead to overfitting because the model will see more and more of the training data. "
   ]
  },
  {
   "cell_type": "code",
   "execution_count": 29,
   "metadata": {
    "scrolled": true
   },
   "outputs": [
    {
     "data": {
      "text/plain": [
       "DecisionTreeRegressor(criterion='mse', max_depth=7, max_features=None,\n",
       "                      max_leaf_nodes=None, min_impurity_decrease=0.0,\n",
       "                      min_impurity_split=None, min_samples_leaf=1,\n",
       "                      min_samples_split=2, min_weight_fraction_leaf=0.0,\n",
       "                      presort=False, random_state=None, splitter='best')"
      ]
     },
     "execution_count": 29,
     "metadata": {},
     "output_type": "execute_result"
    }
   ],
   "source": [
    "tree2 = DecisionTreeRegressor(max_depth=7)\n",
    "tree2.fit(X_train, y_train)"
   ]
  },
  {
   "cell_type": "code",
   "execution_count": 30,
   "metadata": {},
   "outputs": [
    {
     "name": "stdout",
     "output_type": "stream",
     "text": [
      "[0.55 0.37 0.41 0.42 0.46]\n"
     ]
    }
   ],
   "source": [
    "#making predictions\n",
    "y_pred2 = tree2.predict(X_test)\n",
    "print(y_pred2[0:5])"
   ]
  },
  {
   "cell_type": "code",
   "execution_count": 31,
   "metadata": {},
   "outputs": [
    {
     "name": "stdout",
     "output_type": "stream",
     "text": [
      "Mean Absolute Error: 0.021567118700252734\n",
      "Mean Squared Error: 0.0008251278179149775\n",
      "Root Mean Squared Error: 0.02872503817081846\n"
     ]
    }
   ],
   "source": [
    "print('Mean Absolute Error:', metrics.mean_absolute_error(y_test, y_pred2))\n",
    "print('Mean Squared Error:', metrics.mean_squared_error(y_test, y_pred2))\n",
    "print('Root Mean Squared Error:', np.sqrt(metrics.mean_squared_error(y_test, y_pred2)))"
   ]
  },
  {
   "cell_type": "markdown",
   "metadata": {},
   "source": [
    "MSE is slightly better when using tree2. "
   ]
  },
  {
   "cell_type": "markdown",
   "metadata": {},
   "source": [
    "## Random Forest ##"
   ]
  },
  {
   "cell_type": "code",
   "execution_count": 32,
   "metadata": {},
   "outputs": [
    {
     "name": "stderr",
     "output_type": "stream",
     "text": [
      "/Users/mtm101/anaconda3/lib/python3.7/site-packages/sklearn/ensemble/forest.py:245: FutureWarning: The default value of n_estimators will change from 10 in version 0.20 to 100 in 0.22.\n",
      "  \"10 in version 0.20 to 100 in 0.22.\", FutureWarning)\n",
      "/Users/mtm101/anaconda3/lib/python3.7/site-packages/ipykernel_launcher.py:2: DataConversionWarning: A column-vector y was passed when a 1d array was expected. Please change the shape of y to (n_samples,), for example using ravel().\n",
      "  \n"
     ]
    },
    {
     "name": "stdout",
     "output_type": "stream",
     "text": [
      "[0.50 0.40 0.42 0.45 0.45]\n"
     ]
    }
   ],
   "source": [
    "rfr = RandomForestRegressor()\n",
    "rfr.fit(X_train, y_train)\n",
    "y_pred = rfr.predict(X_test)\n",
    "print(y_pred[0:5])"
   ]
  },
  {
   "cell_type": "code",
   "execution_count": 33,
   "metadata": {},
   "outputs": [
    {
     "name": "stdout",
     "output_type": "stream",
     "text": [
      "Mean Absolute Error: 0.01580451409020456\n",
      "Mean Squared Error: 0.0004300283192821369\n",
      "Root Mean Squared Error: 0.020737124180612337\n"
     ]
    }
   ],
   "source": [
    "print('Mean Absolute Error:', metrics.mean_absolute_error(y_test, y_pred))\n",
    "print('Mean Squared Error:', metrics.mean_squared_error(y_test, y_pred))\n",
    "print('Root Mean Squared Error:', np.sqrt(metrics.mean_squared_error(y_test, y_pred)))"
   ]
  },
  {
   "cell_type": "markdown",
   "metadata": {},
   "source": [
    "**Data Dictionary**\n",
    "- geoid: County FIPS code\n",
    "- pop: County Population from DataCommons\n",
    "- housing: Total number of housing units\n",
    "- kfr_pooled: Mean pctile rank in the national distribution of household income in 2014‐2015 \n",
    "- P_1 Bankruptcies per 1000 adults in 2008\n",
    "- P_2 Bankruptcies per 1000 adults in 2009\n",
    "- P_3 Bankruptcies per 1000 adults in 2010\n",
    "- P_4 Bankruptcies per 1000 adults in 2011\n",
    "- P_5 Bankruptcies per 1000 adults in 2012\n",
    "- P_6 Bankruptcies per 1000 adults in 2013\n",
    "- P_7 Bankruptcies per 1000 adults in 2014\n",
    "- P_8 Bankruptcies per 1000 adults in 2015\n",
    "- P_9 Bankruptcies per 1000 adults in 2016\n",
    "- P_10 % of Individuals Earning < 138% of the FPL without Insurance in 2013\n",
    "- P_11 % of Individuals Earning 138%‐400% of the FPL without Insurance in 2013\n",
    "- P_12 Total Violent and Property Crimes Rate\n",
    "- P_13 Total Violent Crimes Rate: Murder Rate\n",
    "- P_14 Total Violent Crimes Rate: Rape Rate\n",
    "- P_15 Total Violent Crimes Rate: Robbery Rate\n",
    "- P_16 Total Violent Crimes Rate: Aggravated Assault Rate\n",
    "- P_17 Total Property Crimes Rate\n",
    "- P_18 Total Property Crimes Rate: Burglary Rate\n",
    "- P_19 Total Property Crimes Rate: Larceny Rate\n",
    "- P_20 Total Property Crimes Rate: Motor Vehicle Theft Rate\n",
    "- P_21 Total Violent and Property Crime Arrests Rate\n",
    "- P_22 Total Violent and Property Crime Arrests Rate: Violent Crime Arrests Rate\n",
    "- P_23 Total Violent and Property Crime Arrests Rate: Property Crime Arrests Rate\n",
    "- P_24 Mean Household Income 2000\n",
    "- P_25 Average Commute Time of Working Adults in 2000\n",
    "- P_26 Fraction of Residents w/ a College Degree or More in 2000\n",
    "- P_27 Fraction of Residents w/ a College Degree or More in 2006‐2010 ACS\n",
    "- P_28 Share of Population Born Outside the U.S. in 2006‐2010 ACS\n",
    "- P_29 Median Household Income in 2016\n",
    "- P_30 Median Household Income in 1990\n",
    "- P_31 Share Below Poverty Line 2006‐2010 ACS\n",
    "- P_32 Share Below Poverty Line 2000\n",
    "- P_33 Share Below Poverty Line 1990\n",
    "- P_34 Share black 2010\n",
    "- P_35 Share hisp 2010\n",
    "- P_36 Share asian 2010\n",
    "- P_37 Share black 2000\n",
    "- P_38 Share white 2000\n",
    "- P_39 Share hisp 2000\n",
    "- P_40 Share asian 2000\n",
    "- P_41 Average School District Level Standardized Test Scores in 3rd Grade in 2013\n",
    "- P_42 Average Rent for Two‐Bedroom Apartment in 2015\n",
    "- P_43 Share of Single‐Headed Households with Children 2006‐2010 ACS\n",
    "- P_44 Share of Single‐Headed Households with Children 1990\n",
    "- P_45 Share of Single‐Headed Households with Children 2000\n",
    "- P_46 Share of Working Adults w/ Commute Time of 15 Minutes Or Less in 2006‐2010 ACS\n",
    "- P_47 Employment Rate 2000\n",
    "- P_48 Census Form Rate Return Rate 2010\n",
    "- P_49 Log wage growth for HS Grad., 2005‐2014\n",
    "- P_50 Share of People who are not white 2010\n",
    "- P_51 Population Density (per square mile) in 2010\n",
    "- P_52 Population Density (per square mile) in 2000\n",
    "- P_53 Average Annual Job Growth Rate 2004‐2013\n",
    "- P_54 Job Density (in square miles) in 2013\n",
    "- P_55 Physically Unhealthy Days per Month (Persons 18 Years and Over)\n",
    "- P_56 Mentally Unhealthy Days per Month (Persons 18 Years and Over)\n",
    "- P_57 Percent of Adults That Report Fair or Poor Health (Persons 18 Years and Over)\n",
    "- P_58 Percent of Low Birthweight Births (<2.5kg)\n",
    "- P_59 Primary Care Physicians (PCP) Rate per 100,000 Population\n",
    "- P_60 Mental Health Providers (MHP) Rate per 100,000 Population\n",
    "- P_61 Dentists Rate per 100,000 Population\n",
    "- P_62 Health Care Costs Price‐adjusted Medicare Reimbursements\n",
    "- P_63 Percent of Persons Without Insurance (Population Under 19 Years, 2013 est.)\n",
    "- P_64 Percent of Persons Without Insurance (Population 18 to 64 Years, 2013 est.)\n",
    "- P_65 Percent of Persons Without Insurance (Population Under 65 Years, 2013 est.)\n",
    "- P_66 Premature Age‐adjusted Mortality Rate per 100,000 Population\n",
    "- P_67 Drug Poisoning Mortality Rate per 100,000 Population\n",
    "- P_68 Percent Diabetics (Adults)\n",
    "- P_69 Percent of Diabetic Medicare Enrollees Receiving Hba1c Test\n",
    "- P_70 Diabetic Medicare Enrollees (Out of Total Medicare Enrolles)\n",
    "- P_71 Teen Births Rate per 100,000 Population (Females 15 to 19 Years)\n",
    "- P_72 Chlamydia Cases Rate per 100,000 Population\n",
    "- P_73 HIV Prevalence Rate per 100,000 Population\n",
    "- P_74 Percent Current Smokers (Persons 18 Years and Over)\n",
    "- P_75 Percent Drinking Adults (Persons 18 Years and Over)\n",
    "- P_76 Percent of Persons with Limited Access to Healthy Foods\n",
    "- P_77 Percent of Persons with Access to Exercise Opportunities\n",
    "- P_78 Percent Obese Persons (20 Years and Over)\n",
    "- P_79 Percent Percent Physically Inactive Persons (20 Years and Over)\n",
    "- P_80 Percent of Children Eligible for Free Lunch (Persons < 18 Years)\n",
    "- P_81 Food Environment Index\n",
    "- P_82 % Total: Evangelical Protestant\n",
    "- P_83 % Total: Mainline Protestant\n",
    "- P_84 % Total: Historically Black Protestant\n",
    "- P_85 % Total: Roman Catholic\n",
    "- P_86 % Total: Jewish Congregations\n",
    "- P_87 % Total: Latter‐day Saint (Mormon)\n",
    "- P_88 % Total: Islamic\n",
    "- P_89 % Total: Hindu\n",
    "- P_90 % Total: Buddhist\n",
    "- P_91 % Total: Orthodox Christian\n",
    "- P_92 % Total: Jehovah's Witnesses\n",
    "- P_93 % Total: Other\n",
    "- P_94 % Total: Evangelical Protestant Member Count\n",
    "- P_95 % Total: Mainline Protestant Member Count\n",
    "- P_96 % Total: Historically Black Protestant Member Count\n",
    "- P_97 % Total: Roman Catholic Member Count\n",
    "- P_98 % Total: Jewish Member Count\n",
    "- P_99 % Total: Latter‐day Saint (Mormon) Member Count\n",
    "- P_100 % Total: Islamic Member Count\n",
    "- P_101 % Total: Hindu Member Count\n",
    "- P_102 % Total: Buddhist Member Count\n",
    "- P_103 % Total: Orthodox Christian Member Count\n",
    "- P_104 % Total: Jehovah's Witnesses Member Count\n",
    "- P_105 % Total: Other Member Count\n",
    "- P_106 % Total Evangelical Protestant: Advent Christian Church\n",
    "- P_107 % Total Evangelical Protestant: Adventists ‐ Other\n",
    "- P_108 % Total Evangelical Protestant: Church of God General Conference\n",
    "- P_109 % Total Evangelical Protestant: Seventh Day Adventists\n",
    "- P_110 % Total Evangelical Protestant: Seventh Day Church of God\n",
    "- P_111 % Total Evangelical Protestant: American Baptist Association\n",
    "- P_112 % Total Evangelical Protestant: Baptist General Conference\n",
    "- P_113 % Total Evangelical Protestant: Baptist ‐ Other\n",
    "- P_114 % Total Evangelical Protestant: Baptist Bible Fellowship\n",
    "- P_115 % Total Evangelical Protestant: Baptist Missionary Association of America\n",
    "- P_116 % Total Evangelical Protestant: Cooperative Baptist Fellowship\n",
    "- P_117 % Total Evangelical Protestant: Independent Baptist Churches\n",
    "- P_118 % Total Evangelical Protestant: Conservative Baptist Association\n",
    "- P_119 % Total Evangelical Protestant: Free Will Baptists\n",
    "- P_120 % Total Evangelical Protestant: General Assoc. of Regular Baptists\n",
    "- P_121 % Total Evangelical Protestant: Assoc. of General Baptists"
   ]
  }
 ],
 "metadata": {
  "kernelspec": {
   "display_name": "Python 3",
   "language": "python",
   "name": "python3"
  },
  "language_info": {
   "codemirror_mode": {
    "name": "ipython",
    "version": 3
   },
   "file_extension": ".py",
   "mimetype": "text/x-python",
   "name": "python",
   "nbconvert_exporter": "python",
   "pygments_lexer": "ipython3",
   "version": "3.7.3"
  }
 },
 "nbformat": 4,
 "nbformat_minor": 2
}
